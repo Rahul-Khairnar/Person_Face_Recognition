{
 "cells": [
  {
   "cell_type": "code",
   "execution_count": 44,
   "metadata": {},
   "outputs": [],
   "source": [
    "import shutil\n",
    "import os\n",
    "import cv2 as cv\n",
    "import pywt\n",
    "import numpy as np\n",
    "\n",
    "\n",
    "\n",
    "from sklearn.svm import SVC\n",
    "from sklearn.preprocessing import StandardScaler\n",
    "from sklearn.model_selection import train_test_split\n",
    "from sklearn.pipeline import Pipeline\n",
    "from sklearn.metrics import classification_report\n",
    "import seaborn as sns"
   ]
  },
  {
   "cell_type": "code",
   "execution_count": 45,
   "metadata": {},
   "outputs": [],
   "source": [
    "members = [\"Aditya\",\"Rahul\",\"Sangeeta\",\"Sunil\"]"
   ]
  },
  {
   "cell_type": "code",
   "execution_count": 46,
   "metadata": {},
   "outputs": [],
   "source": [
    "cropped_image_dirs = ['FACE RECOGNITION AND IDENTIFICATION/model/Family Dataset/cropped/Aditya','FACE RECOGNITION AND IDENTIFICATION/model/Family Dataset/cropped/Rahul','FACE RECOGNITION AND IDENTIFICATION/model/Family Dataset/cropped/Sangeeta','FACE RECOGNITION AND IDENTIFICATION/model/Family Dataset/cropped/Sunil']"
   ]
  },
  {
   "cell_type": "code",
   "execution_count": 47,
   "metadata": {},
   "outputs": [
    {
     "name": "stdout",
     "output_type": "stream",
     "text": [
      "{'Aditya': ['FACE RECOGNITION AND IDENTIFICATION/model/Family Dataset/cropped/Aditya\\\\Aditya10.png', 'FACE RECOGNITION AND IDENTIFICATION/model/Family Dataset/cropped/Aditya\\\\Aditya11.png', 'FACE RECOGNITION AND IDENTIFICATION/model/Family Dataset/cropped/Aditya\\\\Aditya12.png', 'FACE RECOGNITION AND IDENTIFICATION/model/Family Dataset/cropped/Aditya\\\\Aditya2.png', 'FACE RECOGNITION AND IDENTIFICATION/model/Family Dataset/cropped/Aditya\\\\Aditya28.png', 'FACE RECOGNITION AND IDENTIFICATION/model/Family Dataset/cropped/Aditya\\\\Aditya3.png', 'FACE RECOGNITION AND IDENTIFICATION/model/Family Dataset/cropped/Aditya\\\\Aditya31.png', 'FACE RECOGNITION AND IDENTIFICATION/model/Family Dataset/cropped/Aditya\\\\Aditya32.png', 'FACE RECOGNITION AND IDENTIFICATION/model/Family Dataset/cropped/Aditya\\\\Aditya33.png', 'FACE RECOGNITION AND IDENTIFICATION/model/Family Dataset/cropped/Aditya\\\\Aditya34.png', 'FACE RECOGNITION AND IDENTIFICATION/model/Family Dataset/cropped/Aditya\\\\Aditya37.png', 'FACE RECOGNITION AND IDENTIFICATION/model/Family Dataset/cropped/Aditya\\\\Aditya38.png', 'FACE RECOGNITION AND IDENTIFICATION/model/Family Dataset/cropped/Aditya\\\\Aditya4.png', 'FACE RECOGNITION AND IDENTIFICATION/model/Family Dataset/cropped/Aditya\\\\Aditya7.png', 'FACE RECOGNITION AND IDENTIFICATION/model/Family Dataset/cropped/Aditya\\\\Aditya9.png'], 'Rahul': ['FACE RECOGNITION AND IDENTIFICATION/model/Family Dataset/cropped/Rahul\\\\Rahul1.png', 'FACE RECOGNITION AND IDENTIFICATION/model/Family Dataset/cropped/Rahul\\\\Rahul10.png', 'FACE RECOGNITION AND IDENTIFICATION/model/Family Dataset/cropped/Rahul\\\\Rahul18.png', 'FACE RECOGNITION AND IDENTIFICATION/model/Family Dataset/cropped/Rahul\\\\Rahul19.png', 'FACE RECOGNITION AND IDENTIFICATION/model/Family Dataset/cropped/Rahul\\\\Rahul2.png', 'FACE RECOGNITION AND IDENTIFICATION/model/Family Dataset/cropped/Rahul\\\\Rahul20.png', 'FACE RECOGNITION AND IDENTIFICATION/model/Family Dataset/cropped/Rahul\\\\Rahul22.png', 'FACE RECOGNITION AND IDENTIFICATION/model/Family Dataset/cropped/Rahul\\\\Rahul24.png', 'FACE RECOGNITION AND IDENTIFICATION/model/Family Dataset/cropped/Rahul\\\\Rahul25.png', 'FACE RECOGNITION AND IDENTIFICATION/model/Family Dataset/cropped/Rahul\\\\Rahul26.png', 'FACE RECOGNITION AND IDENTIFICATION/model/Family Dataset/cropped/Rahul\\\\Rahul3.png', 'FACE RECOGNITION AND IDENTIFICATION/model/Family Dataset/cropped/Rahul\\\\Rahul35.png', 'FACE RECOGNITION AND IDENTIFICATION/model/Family Dataset/cropped/Rahul\\\\Rahul36.png', 'FACE RECOGNITION AND IDENTIFICATION/model/Family Dataset/cropped/Rahul\\\\Rahul6.png', 'FACE RECOGNITION AND IDENTIFICATION/model/Family Dataset/cropped/Rahul\\\\Rahul7.png', 'FACE RECOGNITION AND IDENTIFICATION/model/Family Dataset/cropped/Rahul\\\\Rahul8.png', 'FACE RECOGNITION AND IDENTIFICATION/model/Family Dataset/cropped/Rahul\\\\Rahul9.png'], 'Sangeeta': ['FACE RECOGNITION AND IDENTIFICATION/model/Family Dataset/cropped/Sangeeta\\\\Sangeeta14.png', 'FACE RECOGNITION AND IDENTIFICATION/model/Family Dataset/cropped/Sangeeta\\\\Sangeeta22.png', 'FACE RECOGNITION AND IDENTIFICATION/model/Family Dataset/cropped/Sangeeta\\\\Sangeeta28.png', 'FACE RECOGNITION AND IDENTIFICATION/model/Family Dataset/cropped/Sangeeta\\\\Sangeeta29.png', 'FACE RECOGNITION AND IDENTIFICATION/model/Family Dataset/cropped/Sangeeta\\\\Sangeeta3.png', 'FACE RECOGNITION AND IDENTIFICATION/model/Family Dataset/cropped/Sangeeta\\\\Sangeeta31.png', 'FACE RECOGNITION AND IDENTIFICATION/model/Family Dataset/cropped/Sangeeta\\\\Sangeeta32.png', 'FACE RECOGNITION AND IDENTIFICATION/model/Family Dataset/cropped/Sangeeta\\\\Sangeeta36.png', 'FACE RECOGNITION AND IDENTIFICATION/model/Family Dataset/cropped/Sangeeta\\\\Sangeeta5.png', 'FACE RECOGNITION AND IDENTIFICATION/model/Family Dataset/cropped/Sangeeta\\\\Sangeeta8.png', 'FACE RECOGNITION AND IDENTIFICATION/model/Family Dataset/cropped/Sangeeta\\\\Sangeeta9.png', 'FACE RECOGNITION AND IDENTIFICATION/model/Family Dataset/cropped/Sangeeta\\\\Sunil16.png', 'FACE RECOGNITION AND IDENTIFICATION/model/Family Dataset/cropped/Sangeeta\\\\Sunil18.png', 'FACE RECOGNITION AND IDENTIFICATION/model/Family Dataset/cropped/Sangeeta\\\\Sunil2.png'], 'Sunil': ['FACE RECOGNITION AND IDENTIFICATION/model/Family Dataset/cropped/Sunil\\\\Sunil10.png', 'FACE RECOGNITION AND IDENTIFICATION/model/Family Dataset/cropped/Sunil\\\\Sunil14.png', 'FACE RECOGNITION AND IDENTIFICATION/model/Family Dataset/cropped/Sunil\\\\Sunil15.png', 'FACE RECOGNITION AND IDENTIFICATION/model/Family Dataset/cropped/Sunil\\\\Sunil17.png', 'FACE RECOGNITION AND IDENTIFICATION/model/Family Dataset/cropped/Sunil\\\\Sunil19.png', 'FACE RECOGNITION AND IDENTIFICATION/model/Family Dataset/cropped/Sunil\\\\Sunil20.png', 'FACE RECOGNITION AND IDENTIFICATION/model/Family Dataset/cropped/Sunil\\\\Sunil21.png', 'FACE RECOGNITION AND IDENTIFICATION/model/Family Dataset/cropped/Sunil\\\\Sunil22.png', 'FACE RECOGNITION AND IDENTIFICATION/model/Family Dataset/cropped/Sunil\\\\Sunil23.png', 'FACE RECOGNITION AND IDENTIFICATION/model/Family Dataset/cropped/Sunil\\\\Sunil25.png', 'FACE RECOGNITION AND IDENTIFICATION/model/Family Dataset/cropped/Sunil\\\\Sunil26.png', 'FACE RECOGNITION AND IDENTIFICATION/model/Family Dataset/cropped/Sunil\\\\Sunil27.png', 'FACE RECOGNITION AND IDENTIFICATION/model/Family Dataset/cropped/Sunil\\\\Sunil28.png', 'FACE RECOGNITION AND IDENTIFICATION/model/Family Dataset/cropped/Sunil\\\\Sunil29.png', 'FACE RECOGNITION AND IDENTIFICATION/model/Family Dataset/cropped/Sunil\\\\Sunil38.png', 'FACE RECOGNITION AND IDENTIFICATION/model/Family Dataset/cropped/Sunil\\\\Sunil39.png', 'FACE RECOGNITION AND IDENTIFICATION/model/Family Dataset/cropped/Sunil\\\\Sunil4.png', 'FACE RECOGNITION AND IDENTIFICATION/model/Family Dataset/cropped/Sunil\\\\Sunil5.png', 'FACE RECOGNITION AND IDENTIFICATION/model/Family Dataset/cropped/Sunil\\\\Sunil7.png', 'FACE RECOGNITION AND IDENTIFICATION/model/Family Dataset/cropped/Sunil\\\\Sunil9.png']}\n"
     ]
    }
   ],
   "source": [
    "member_file_dict = {}\n",
    "for img_dirs in cropped_image_dirs:\n",
    "    member_name = img_dirs.split(\"/\")[-1]\n",
    "    file_list = []\n",
    "    for image_files in os.scandir(img_dirs):\n",
    "        file_list.append(image_files.path)\n",
    "    member_file_dict[member_name] = file_list\n",
    "print(member_file_dict)"
   ]
  },
  {
   "cell_type": "code",
   "execution_count": 48,
   "metadata": {},
   "outputs": [
    {
     "name": "stdout",
     "output_type": "stream",
     "text": [
      "{'Aditya': 0, 'Rahul': 1, 'Sangeeta': 2, 'Sunil': 3}\n"
     ]
    }
   ],
   "source": [
    "member_names = {}\n",
    "count = 0\n",
    "for member_name in member_file_dict.keys():\n",
    "    member_names[member_name] = count\n",
    "    count = count+1\n",
    "print(member_names)"
   ]
  },
  {
   "cell_type": "code",
   "execution_count": 49,
   "metadata": {},
   "outputs": [],
   "source": [
    "import pywt\n",
    "def wavelet_transform(img,mode=\"haar\",level=1):\n",
    "    img_array = img\n",
    "    img_array = cv.cvtColor(img_array,cv.COLOR_BGR2GRAY)\n",
    "    img_array = np.float32(img_array)\n",
    "    img_array /= 255;\n",
    "    coeffs=pywt.wavedec2(img_array, mode, level=level)\n",
    "    coeffs_H=list(coeffs)  \n",
    "    coeffs_H[0] *= 0;  \n",
    "\n",
    "    # reconstruction\n",
    "    imArray_H=pywt.waverec2(coeffs_H, mode);\n",
    "    imArray_H *= 255;\n",
    "    imArray_H =  np.uint8(imArray_H)\n",
    "\n",
    "    return imArray_H"
   ]
  },
  {
   "cell_type": "code",
   "execution_count": 50,
   "metadata": {},
   "outputs": [],
   "source": [
    "X = []\n",
    "y = []\n",
    "for member,training_files in member_file_dict.items():\n",
    "    for training_image in training_files:\n",
    "        img = cv.imread(training_image)\n",
    "        scalled_image = cv.resize(img,(32,32))\n",
    "        image_wav_transform = wavelet_transform(scalled_image,'db1',5)\n",
    "        transformed_scalled = cv.resize(image_wav_transform,(32,32))\n",
    "        image_vertically_stacked = np.vstack((scalled_image.reshape(32*32*3,1),transformed_scalled.reshape(32*32,1)))\n",
    "        X.append(image_vertically_stacked)\n",
    "        y.append(member_names[member]) "
   ]
  },
  {
   "cell_type": "code",
   "execution_count": 51,
   "metadata": {
    "scrolled": true
   },
   "outputs": [
    {
     "name": "stdout",
     "output_type": "stream",
     "text": [
      "[[ 52]\n",
      " [ 76]\n",
      " [156]\n",
      " ...\n",
      " [189]\n",
      " [193]\n",
      " [192]]\n"
     ]
    }
   ],
   "source": [
    "print(X[0])"
   ]
  },
  {
   "cell_type": "code",
   "execution_count": 52,
   "metadata": {},
   "outputs": [
    {
     "data": {
      "text/plain": [
       "(66, 66)"
      ]
     },
     "execution_count": 52,
     "metadata": {},
     "output_type": "execute_result"
    }
   ],
   "source": [
    "len(X),len(y)"
   ]
  },
  {
   "cell_type": "code",
   "execution_count": 53,
   "metadata": {},
   "outputs": [
    {
     "data": {
      "text/plain": [
       "(66, 4096)"
      ]
     },
     "execution_count": 53,
     "metadata": {},
     "output_type": "execute_result"
    }
   ],
   "source": [
    "X = np.array(X).reshape(len(X),4096).astype(float)\n",
    "X.shape"
   ]
  },
  {
   "cell_type": "code",
   "execution_count": 54,
   "metadata": {},
   "outputs": [],
   "source": [
    "X_train,X_test,y_train,y_test = train_test_split(X,y,random_state=0)"
   ]
  },
  {
   "cell_type": "code",
   "execution_count": 55,
   "metadata": {},
   "outputs": [
    {
     "data": {
      "text/plain": [
       "((49, 4096), (17, 4096))"
      ]
     },
     "execution_count": 55,
     "metadata": {},
     "output_type": "execute_result"
    }
   ],
   "source": [
    "X_train.shape,X_test.shape"
   ]
  },
  {
   "cell_type": "code",
   "execution_count": 56,
   "metadata": {},
   "outputs": [
    {
     "data": {
      "text/plain": [
       "0.9411764705882353"
      ]
     },
     "execution_count": 56,
     "metadata": {},
     "output_type": "execute_result"
    }
   ],
   "source": [
    "pipe = Pipeline([('scaler',StandardScaler()),('svc',SVC(kernel = 'linear', C=10))])\n",
    "pipe.fit(X_train,y_train)\n",
    "pipe.score(X_test,y_test)"
   ]
  },
  {
   "cell_type": "code",
   "execution_count": 57,
   "metadata": {},
   "outputs": [
    {
     "name": "stdout",
     "output_type": "stream",
     "text": [
      "              precision    recall  f1-score   support\n",
      "\n",
      "           0       1.00      1.00      1.00         3\n",
      "           1       1.00      1.00      1.00         3\n",
      "           2       1.00      0.80      0.89         5\n",
      "           3       0.86      1.00      0.92         6\n",
      "\n",
      "    accuracy                           0.94        17\n",
      "   macro avg       0.96      0.95      0.95        17\n",
      "weighted avg       0.95      0.94      0.94        17\n",
      "\n"
     ]
    }
   ],
   "source": [
    "print(classification_report(y_test,pipe.predict(X_test)))"
   ]
  },
  {
   "cell_type": "code",
   "execution_count": 61,
   "metadata": {},
   "outputs": [],
   "source": [
    "from sklearn import svm\n",
    "from sklearn.ensemble import RandomForestClassifier\n",
    "from sklearn.linear_model import LogisticRegression\n",
    "from sklearn.pipeline import make_pipeline\n",
    "from sklearn.model_selection import GridSearchCV\n",
    "import pandas as pd"
   ]
  },
  {
   "cell_type": "code",
   "execution_count": 67,
   "metadata": {},
   "outputs": [],
   "source": [
    "model_params = {\n",
    "    'svm': {\n",
    "        'model': svm.SVC(gamma='auto',probability=True),\n",
    "        'params' : {\n",
    "            'svc__C': [1,10,100,1000],\n",
    "            'svc__kernel': ['rbf','linear','poly','sigmoid']\n",
    "        }  \n",
    "    },\n",
    "    'random_forest': {\n",
    "        'model': RandomForestClassifier(),\n",
    "        'params' : {\n",
    "            'randomforestclassifier__n_estimators': [1,5,10]\n",
    "        }\n",
    "    },\n",
    "    'logistic_regression' : {\n",
    "        'model': LogisticRegression(solver='liblinear',multi_class='auto'),\n",
    "        'params': {\n",
    "            'logisticregression__C': [1,5,10]\n",
    "        }\n",
    "    }\n",
    "}"
   ]
  },
  {
   "cell_type": "code",
   "execution_count": 68,
   "metadata": {
    "scrolled": true
   },
   "outputs": [
    {
     "data": {
      "text/html": [
       "<div>\n",
       "<style scoped>\n",
       "    .dataframe tbody tr th:only-of-type {\n",
       "        vertical-align: middle;\n",
       "    }\n",
       "\n",
       "    .dataframe tbody tr th {\n",
       "        vertical-align: top;\n",
       "    }\n",
       "\n",
       "    .dataframe thead th {\n",
       "        text-align: right;\n",
       "    }\n",
       "</style>\n",
       "<table border=\"1\" class=\"dataframe\">\n",
       "  <thead>\n",
       "    <tr style=\"text-align: right;\">\n",
       "      <th></th>\n",
       "      <th>model</th>\n",
       "      <th>best_score</th>\n",
       "      <th>best_params</th>\n",
       "    </tr>\n",
       "  </thead>\n",
       "  <tbody>\n",
       "    <tr>\n",
       "      <th>0</th>\n",
       "      <td>svm</td>\n",
       "      <td>0.815556</td>\n",
       "      <td>{'svc__C': 1, 'svc__kernel': 'linear'}</td>\n",
       "    </tr>\n",
       "    <tr>\n",
       "      <th>1</th>\n",
       "      <td>random_forest</td>\n",
       "      <td>0.611111</td>\n",
       "      <td>{'randomforestclassifier__n_estimators': 10}</td>\n",
       "    </tr>\n",
       "    <tr>\n",
       "      <th>2</th>\n",
       "      <td>logistic_regression</td>\n",
       "      <td>0.797778</td>\n",
       "      <td>{'logisticregression__C': 1}</td>\n",
       "    </tr>\n",
       "  </tbody>\n",
       "</table>\n",
       "</div>"
      ],
      "text/plain": [
       "                 model  best_score  \\\n",
       "0                  svm    0.815556   \n",
       "1        random_forest    0.611111   \n",
       "2  logistic_regression    0.797778   \n",
       "\n",
       "                                    best_params  \n",
       "0        {'svc__C': 1, 'svc__kernel': 'linear'}  \n",
       "1  {'randomforestclassifier__n_estimators': 10}  \n",
       "2                  {'logisticregression__C': 1}  "
      ]
     },
     "execution_count": 68,
     "metadata": {},
     "output_type": "execute_result"
    }
   ],
   "source": [
    "\n",
    "scores = []\n",
    "best_estimators = {}\n",
    "import pandas as pd\n",
    "for algo, mp in model_params.items():\n",
    "    pipe = make_pipeline(StandardScaler(), mp['model'])\n",
    "    clf =  GridSearchCV(pipe, mp['params'], cv=5, return_train_score=False)\n",
    "    clf.fit(X_train, y_train)\n",
    "    scores.append({\n",
    "        'model': algo,\n",
    "        'best_score': clf.best_score_,\n",
    "        'best_params': clf.best_params_\n",
    "    })\n",
    "    best_estimators[algo] = clf.best_estimator_\n",
    "    \n",
    "df = pd.DataFrame(scores,columns=['model','best_score','best_params'])\n",
    "df"
   ]
  },
  {
   "cell_type": "code",
   "execution_count": 69,
   "metadata": {},
   "outputs": [
    {
     "data": {
      "text/plain": [
       "0.9411764705882353"
      ]
     },
     "execution_count": 69,
     "metadata": {},
     "output_type": "execute_result"
    }
   ],
   "source": [
    "best_estimators['svm'].score(X_test,y_test)"
   ]
  },
  {
   "cell_type": "code",
   "execution_count": 71,
   "metadata": {},
   "outputs": [
    {
     "data": {
      "text/plain": [
       "0.6470588235294118"
      ]
     },
     "execution_count": 71,
     "metadata": {},
     "output_type": "execute_result"
    }
   ],
   "source": [
    "best_estimators['random_forest'].score(X_test,y_test)"
   ]
  },
  {
   "cell_type": "code",
   "execution_count": 72,
   "metadata": {},
   "outputs": [
    {
     "data": {
      "text/plain": [
       "0.9411764705882353"
      ]
     },
     "execution_count": 72,
     "metadata": {},
     "output_type": "execute_result"
    }
   ],
   "source": [
    "best_estimators['logistic_regression'].score(X_test,y_test)"
   ]
  },
  {
   "cell_type": "code",
   "execution_count": 75,
   "metadata": {},
   "outputs": [],
   "source": [
    "best_clf = best_estimators['svm']"
   ]
  },
  {
   "cell_type": "code",
   "execution_count": 76,
   "metadata": {},
   "outputs": [
    {
     "data": {
      "text/plain": [
       "array([[3, 0, 0, 0],\n",
       "       [0, 3, 0, 0],\n",
       "       [0, 0, 4, 1],\n",
       "       [0, 0, 0, 6]], dtype=int64)"
      ]
     },
     "execution_count": 76,
     "metadata": {},
     "output_type": "execute_result"
    }
   ],
   "source": [
    "from sklearn.metrics import confusion_matrix\n",
    "cm = confusion_matrix(y_test, best_clf.predict(X_test))\n",
    "cm"
   ]
  },
  {
   "cell_type": "code",
   "execution_count": 78,
   "metadata": {
    "scrolled": true
   },
   "outputs": [
    {
     "data": {
      "text/plain": [
       "Text(69.0, 0.5, 'Truth')"
      ]
     },
     "execution_count": 78,
     "metadata": {},
     "output_type": "execute_result"
    },
    {
     "data": {
      "image/png": "[encoded data removed]",
      "text/plain": [
       "<Figure size 720x504 with 2 Axes>"
      ]
     },
     "metadata": {
      "needs_background": "light"
     },
     "output_type": "display_data"
    }
   ],
   "source": [
    "import seaborn as sn\n",
    "from matplotlib import pyplot as plt\n",
    "plt.figure(figsize = (10,7))\n",
    "sn.heatmap(cm, annot=True)\n",
    "plt.xlabel('Predicted')\n",
    "plt.ylabel('Truth')"
   ]
  },
  {
   "cell_type": "code",
   "execution_count": 80,
   "metadata": {},
   "outputs": [],
   "source": [
    "import pickle\n",
    "with open(\"Face_recognition_model.pickle\",\"wb\") as f:\n",
    "    pickle.dump(best_clf,f)"
   ]
  },
  {
   "cell_type": "code",
   "execution_count": 83,
   "metadata": {},
   "outputs": [],
   "source": [
    "import json\n",
    "with open(\"member_numbers.json\",\"w\") as f:\n",
    "    f.write(json.dumps(member_names))"
   ]
  }
 ],
 "metadata": {
  "kernelspec": {
   "display_name": "Python 3",
   "language": "python",
   "name": "python3"
  },
  "language_info": {
   "codemirror_mode": {
    "name": "ipython",
    "version": 3
   },
   "file_extension": ".py",
   "mimetype": "text/x-python",
   "name": "python",
   "nbconvert_exporter": "python",
   "pygments_lexer": "ipython3",
   "version": "3.7.6"
  }
 },
 "nbformat": 4,
 "nbformat_minor": 4
}
